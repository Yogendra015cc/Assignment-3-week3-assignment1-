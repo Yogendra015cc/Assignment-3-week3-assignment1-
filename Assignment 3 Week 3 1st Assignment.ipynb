{
 "cells": [
  {
   "cell_type": "markdown",
   "id": "58245ad6-54f4-4b13-a8eb-20cb4ecbf05e",
   "metadata": {
    "tags": []
   },
   "source": [
    "#### Assignment 3 (1st of week 3)"
   ]
  },
  {
   "cell_type": "markdown",
   "id": "43c7fa3c-5490-4414-b605-1658c3a7e006",
   "metadata": {},
   "source": [
    "####Q1. Which keyword is used to create a function? Create a function to return a list of odd numbers in the range of 1 to 25."
   ]
  },
  {
   "cell_type": "code",
   "execution_count": 10,
   "id": "8e0b2621-7f8a-46f6-a292-fc376fb6e4fe",
   "metadata": {},
   "outputs": [],
   "source": [
    "# \"Def\" is usd to create a function"
   ]
  },
  {
   "cell_type": "code",
   "execution_count": 11,
   "id": "edebe8f3-a52e-4133-ab1c-82af9acb3a16",
   "metadata": {},
   "outputs": [
    {
     "name": "stdout",
     "output_type": "stream",
     "text": [
      "[1, 2, 3, 4, 5, 6, 7, 8, 9, 10, 11, 12, 13, 14, 15, 16, 17, 18, 19, 20, 21, 22, 23, 24, 25]\n"
     ]
    }
   ],
   "source": [
    "l = list(range(1,26))\n",
    "print(l)"
   ]
  },
  {
   "cell_type": "code",
   "execution_count": 12,
   "id": "50b13c5c-0fe4-407d-bc2a-1cfc524bb2f9",
   "metadata": {},
   "outputs": [
    {
     "data": {
      "text/plain": [
       "[1,\n",
       " 2,\n",
       " 3,\n",
       " 4,\n",
       " 5,\n",
       " 6,\n",
       " 7,\n",
       " 8,\n",
       " 9,\n",
       " 10,\n",
       " 11,\n",
       " 12,\n",
       " 13,\n",
       " 14,\n",
       " 15,\n",
       " 16,\n",
       " 17,\n",
       " 18,\n",
       " 19,\n",
       " 20,\n",
       " 21,\n",
       " 22,\n",
       " 23,\n",
       " 24,\n",
       " 25]"
      ]
     },
     "execution_count": 12,
     "metadata": {},
     "output_type": "execute_result"
    }
   ],
   "source": [
    "l"
   ]
  },
  {
   "cell_type": "code",
   "execution_count": 13,
   "id": "4022743d-375b-4dec-a3fd-6df01b967443",
   "metadata": {},
   "outputs": [
    {
     "name": "stdout",
     "output_type": "stream",
     "text": [
      "[1, 3, 5, 7, 9, 11, 13, 15, 17, 19, 21, 23, 25]\n"
     ]
    }
   ],
   "source": [
    "def proof():\n",
    "    return [num for num in range(1, 26) if num % 2 != 0]\n",
    "print(proof())"
   ]
  },
  {
   "cell_type": "markdown",
   "id": "7cd17d51-c92a-4bef-970b-5f0aae20fecf",
   "metadata": {},
   "source": [
    "####Q2. Why *args and **kwargs is used in some functions? Create a function each for *args and **kwargs to demonstrate their use."
   ]
  },
  {
   "cell_type": "code",
   "execution_count": 14,
   "id": "2bd2e730-55be-459c-b90e-786184878905",
   "metadata": {},
   "outputs": [],
   "source": [
    "# *args is used to take unlimited data inside a function and **kwargs is used to take function as dictionary"
   ]
  },
  {
   "cell_type": "code",
   "execution_count": 15,
   "id": "98be5cd6-8595-484d-b191-4882f1553eb9",
   "metadata": {},
   "outputs": [],
   "source": [
    "# *args example\n",
    "\n",
    "def proof2(*args):\n",
    "    return args"
   ]
  },
  {
   "cell_type": "code",
   "execution_count": 16,
   "id": "699c4edc-9cdf-420e-ab2f-632f8dc3cdb4",
   "metadata": {},
   "outputs": [
    {
     "data": {
      "text/plain": [
       "(1, 2, 3, 4, 5, 6, 7, 8, 9, 0, 12, 2, 43, 5, 65, 75, 757, 75766, 54646)"
      ]
     },
     "execution_count": 16,
     "metadata": {},
     "output_type": "execute_result"
    }
   ],
   "source": [
    "proof2(1,2,3,4,5,6,7,8,9,0,12,2,43,5,65,75,757,75766,54646) # we can put unlimited data because of *args "
   ]
  },
  {
   "cell_type": "code",
   "execution_count": 17,
   "id": "8580e17f-3cd8-4103-bba5-656e074ec7a4",
   "metadata": {},
   "outputs": [],
   "source": [
    "# **kwargs  example\n",
    "\n",
    "def proof3(**kwargs):\n",
    "    return kwargs"
   ]
  },
  {
   "cell_type": "code",
   "execution_count": 18,
   "id": "ec5edebe-142e-458e-bfe8-0e923c15855b",
   "metadata": {},
   "outputs": [
    {
     "data": {
      "text/plain": [
       "{'a': 123, 'b': 432, 'c': 12.132}"
      ]
     },
     "execution_count": 18,
     "metadata": {},
     "output_type": "execute_result"
    }
   ],
   "source": [
    "proof3(a = 123 ,b = 432 ,c = 12.132) # This will become dictionary because of \"**kwargs\""
   ]
  },
  {
   "cell_type": "code",
   "execution_count": 19,
   "id": "712ae9ae-48a0-41a2-8d40-6ea621607a36",
   "metadata": {},
   "outputs": [
    {
     "data": {
      "text/plain": [
       "dict"
      ]
     },
     "execution_count": 19,
     "metadata": {},
     "output_type": "execute_result"
    }
   ],
   "source": [
    "type(proof3())"
   ]
  },
  {
   "cell_type": "markdown",
   "id": "14b09929-b10b-4ead-abbb-706a43296cd6",
   "metadata": {},
   "source": [
    "#Q3. What is an iterator in python? Name the method used to initialise the iterator object and the method used for iteration. Use these methods to print the first five elements of the given list [2, 4, 6, 8, 10, 12, 14, 16, 18, 20]."
   ]
  },
  {
   "cell_type": "markdown",
   "id": "90bbb19a-b4d4-48be-a314-122fb89b5584",
   "metadata": {},
   "source": [
    "#Ans. An iterator is an object that allows us to get a sequence consicutively whithout writing it one by one \n",
    "\n",
    "#The method used to create a iterable object to iterator is - iter()\n",
    "#The method used to get a sequence is - next()"
   ]
  },
  {
   "cell_type": "code",
   "execution_count": 20,
   "id": "35117ac7-46fe-4fc2-ae09-3a1a3b8b65f4",
   "metadata": {},
   "outputs": [],
   "source": [
    "l5 = [2, 4, 6, 8, 10, 12, 14, 16, 18, 20]"
   ]
  },
  {
   "cell_type": "code",
   "execution_count": 21,
   "id": "3e57a19b-56eb-4282-a0dd-bc0d6a43e24c",
   "metadata": {},
   "outputs": [
    {
     "data": {
      "text/plain": [
       "<list_iterator at 0x7f4062594280>"
      ]
     },
     "execution_count": 21,
     "metadata": {},
     "output_type": "execute_result"
    }
   ],
   "source": [
    "iter(l5)"
   ]
  },
  {
   "cell_type": "code",
   "execution_count": 22,
   "id": "9d54da93-cc16-463c-a18f-eb67d9fb9fae",
   "metadata": {},
   "outputs": [
    {
     "name": "stdout",
     "output_type": "stream",
     "text": [
      "2\n",
      "4\n",
      "6\n",
      "8\n",
      "10\n"
     ]
    }
   ],
   "source": [
    "for i in l5[0:5]:\n",
    "    print(i) "
   ]
  },
  {
   "cell_type": "markdown",
   "id": "33b33d4f-7fc6-4ddd-b175-312da021921a",
   "metadata": {},
   "source": [
    "#Q4. What is a generator function in python? Why yield keyword is used? Give an example of a generator function."
   ]
  },
  {
   "cell_type": "code",
   "execution_count": 23,
   "id": "6e1b69bc-b017-4ac2-bd0a-7cc971a07ba6",
   "metadata": {},
   "outputs": [],
   "source": [
    "#Ans. Generator function generates a sequence of values one at a time, rather than returning a complete list of values like a regular function.\n",
    "\n",
    "# Yield keyword is used to produce a series of values"
   ]
  },
  {
   "cell_type": "code",
   "execution_count": 24,
   "id": "52cf8ced-afdf-4160-8780-b669f76ed00e",
   "metadata": {},
   "outputs": [],
   "source": [
    "def test_feb(x): # Testing febonaci series \n",
    "    a,b = 0,1\n",
    "    for i in range(x) :\n",
    "        yield a\n",
    "        a,b = b , a+b"
   ]
  },
  {
   "cell_type": "code",
   "execution_count": 25,
   "id": "d21591a9-3a66-4012-9f30-d641ea87c350",
   "metadata": {},
   "outputs": [
    {
     "data": {
      "text/plain": [
       "<generator object test_feb at 0x7f40626f78b0>"
      ]
     },
     "execution_count": 25,
     "metadata": {},
     "output_type": "execute_result"
    }
   ],
   "source": [
    "test_feb(10)"
   ]
  },
  {
   "cell_type": "code",
   "execution_count": 26,
   "id": "27866221-1584-4e37-bfa8-80fa6cafcdf6",
   "metadata": {},
   "outputs": [
    {
     "name": "stdout",
     "output_type": "stream",
     "text": [
      "0\n",
      "1\n",
      "1\n",
      "2\n",
      "3\n"
     ]
    }
   ],
   "source": [
    "for i in test_feb(5):\n",
    "    print(i)"
   ]
  },
  {
   "cell_type": "code",
   "execution_count": null,
   "id": "51e7702d-bdba-4146-856d-2ea715aa40e5",
   "metadata": {},
   "outputs": [],
   "source": [
    "for i in test_feb(20):\n",
    "    print(i)"
   ]
  },
  {
   "cell_type": "markdown",
   "id": "c176d6e6-11ed-4bdb-8d77-6d6eceb25990",
   "metadata": {},
   "source": [
    "#Q5. Create a generator function for prime numbers less than 1000. Use the next() method to print the first 20 prime numbers."
   ]
  },
  {
   "cell_type": "code",
   "execution_count": 44,
   "id": "7724570f-0d95-4814-9877-abf38984ea24",
   "metadata": {},
   "outputs": [],
   "source": [
    "# Dont know"
   ]
  },
  {
   "cell_type": "markdown",
   "id": "00e3888f-de8d-4939-9d88-b2864e50ff7d",
   "metadata": {},
   "source": [
    "#Q6. Write a python program to print the first 10 Fibonacci numbers using a while loop\n"
   ]
  },
  {
   "cell_type": "code",
   "execution_count": 3,
   "id": "8eb866de-29ff-4bc2-bb0b-efa102d30aa2",
   "metadata": {},
   "outputs": [
    {
     "name": "stdout",
     "output_type": "stream",
     "text": [
      "0\n",
      "1\n",
      "1\n",
      "2\n",
      "3\n",
      "5\n",
      "8\n",
      "13\n",
      "21\n",
      "34\n"
     ]
    }
   ],
   "source": [
    "def test_feb(): # Testing febonaci series by using while loop\n",
    "    a,b = 0,1\n",
    "    while True:\n",
    "        yield a\n",
    "        a,b = b , a+b\n",
    "        \n",
    "feb = test_feb()\n",
    "\n",
    "for i in range(10):\n",
    "    print(next(feb))"
   ]
  },
  {
   "cell_type": "markdown",
   "id": "b64cfe47-0e68-4430-9c13-0b90e97431ae",
   "metadata": {},
   "source": [
    "#Q7. Write a List Comprehension to iterate through the given string: ‘pwskills’.\n",
    "# Expected output: ['p', 'w', 's', 'k', 'i', 'l', 'l', 's']"
   ]
  },
  {
   "cell_type": "code",
   "execution_count": 4,
   "id": "3a4fb75a-36c2-4e3e-abc1-4e5e41618065",
   "metadata": {},
   "outputs": [
    {
     "data": {
      "text/plain": [
       "['p', 'w', 's', 'k', 'i', 'l', 'l', 's']"
      ]
     },
     "execution_count": 4,
     "metadata": {},
     "output_type": "execute_result"
    }
   ],
   "source": [
    "S = \"pwskills\"\n",
    "list(map(lambda S : S.lower() , S))"
   ]
  },
  {
   "cell_type": "markdown",
   "id": "9509e4d9-add5-4a8e-8338-4b4e8def2f8b",
   "metadata": {},
   "source": [
    "#Q8. Write a python program to check whether a given number is Palindrome or not using a while loop."
   ]
  },
  {
   "cell_type": "code",
   "execution_count": 1,
   "id": "ac80c446-e57c-4211-843b-e9d637d42687",
   "metadata": {},
   "outputs": [],
   "source": [
    "# dont know the answer"
   ]
  },
  {
   "cell_type": "markdown",
   "id": "f2bd7b18-6aa0-42f3-b76a-03044ba2882e",
   "metadata": {},
   "source": [
    "#Q9. Write a code to print odd numbers from 1 to 100 using list comprehension.\n",
    "#Note: Use a list comprehension to create a list from 1 to 100 and use another List comprehension to filter out odd numbers."
   ]
  },
  {
   "cell_type": "code",
   "execution_count": 7,
   "id": "6218377e-48c9-429b-a461-7b7b7c45fa44",
   "metadata": {},
   "outputs": [
    {
     "name": "stdout",
     "output_type": "stream",
     "text": [
      "[1, 2, 3, 4, 5, 6, 7, 8, 9, 10, 11, 12, 13, 14, 15, 16, 17, 18, 19, 20, 21, 22, 23, 24, 25, 26, 27, 28, 29, 30, 31, 32, 33, 34, 35, 36, 37, 38, 39, 40, 41, 42, 43, 44, 45, 46, 47, 48, 49, 50, 51, 52, 53, 54, 55, 56, 57, 58, 59, 60, 61, 62, 63, 64, 65, 66, 67, 68, 69, 70, 71, 72, 73, 74, 75, 76, 77, 78, 79, 80, 81, 82, 83, 84, 85, 86, 87, 88, 89, 90, 91, 92, 93, 94, 95, 96, 97, 98, 99, 100]\n"
     ]
    }
   ],
   "source": [
    "L = [x for x in range(1,101)]\n",
    "print(L)"
   ]
  },
  {
   "cell_type": "code",
   "execution_count": 9,
   "id": "2bb9811f-39d0-4bbd-a776-4eab492866be",
   "metadata": {},
   "outputs": [
    {
     "data": {
      "text/plain": [
       "[1,\n",
       " 3,\n",
       " 5,\n",
       " 7,\n",
       " 9,\n",
       " 11,\n",
       " 13,\n",
       " 15,\n",
       " 17,\n",
       " 19,\n",
       " 21,\n",
       " 23,\n",
       " 25,\n",
       " 27,\n",
       " 29,\n",
       " 31,\n",
       " 33,\n",
       " 35,\n",
       " 37,\n",
       " 39,\n",
       " 41,\n",
       " 43,\n",
       " 45,\n",
       " 47,\n",
       " 49,\n",
       " 51,\n",
       " 53,\n",
       " 55,\n",
       " 57,\n",
       " 59,\n",
       " 61,\n",
       " 63,\n",
       " 65,\n",
       " 67,\n",
       " 69,\n",
       " 71,\n",
       " 73,\n",
       " 75,\n",
       " 77,\n",
       " 79,\n",
       " 81,\n",
       " 83,\n",
       " 85,\n",
       " 87,\n",
       " 89,\n",
       " 91,\n",
       " 93,\n",
       " 95,\n",
       " 97,\n",
       " 99]"
      ]
     },
     "execution_count": 9,
     "metadata": {},
     "output_type": "execute_result"
    }
   ],
   "source": [
    "list(filter(lambda x : x % 2 != 0 , L))"
   ]
  },
  {
   "cell_type": "code",
   "execution_count": null,
   "id": "7bec66ff-bdf9-4fae-a9e0-006e857cd324",
   "metadata": {},
   "outputs": [],
   "source": []
  }
 ],
 "metadata": {
  "kernelspec": {
   "display_name": "Python 3 (ipykernel)",
   "language": "python",
   "name": "python3"
  },
  "language_info": {
   "codemirror_mode": {
    "name": "ipython",
    "version": 3
   },
   "file_extension": ".py",
   "mimetype": "text/x-python",
   "name": "python",
   "nbconvert_exporter": "python",
   "pygments_lexer": "ipython3",
   "version": "3.10.8"
  }
 },
 "nbformat": 4,
 "nbformat_minor": 5
}
